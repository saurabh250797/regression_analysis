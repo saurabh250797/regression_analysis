{
 "cells": [
  {
   "cell_type": "markdown",
   "id": "08cef422",
   "metadata": {},
   "source": [
    "# <p style=\"text-align: center;\">REGRESSION ANALYSIS OF 50 COMPANIES DATA</p>\n",
    "\n",
    "<br>\n",
    "\n",
    "## <p style=\"text-align: center;\">INTERNSHIP PROJECT REPORT</p>\n",
    "\n",
    "<br>\n",
    "\n",
    "### <p style=\"text-align: center;\">NAME OF CANDIDATE: SAURABH KUMAR</p>\n",
    "\n",
    "<br>\n",
    "\n",
    "### <p style=\"text-align: center;\">DEPARTMENT OF: Artificial Intelligence and Data Science</p>\n",
    "\n",
    "\n",
    "\n",
    "### <p style=\"text-align: center;\">BITS PILANI, PILANI CAMPUS, RAJASTHAN</p>\n",
    "\n",
    "\n"
   ]
  },
  {
   "cell_type": "code",
   "execution_count": 1,
   "id": "55b74276",
   "metadata": {},
   "outputs": [
    {
     "name": "stdout",
     "output_type": "stream",
     "text": [
      "NumPy version: 1.21.5\n",
      "Pandas version: 1.4.4\n",
      "seaborn version: 0.11.2\n",
      "sklearn version: 1.0.2\n",
      "scipy version: 1.9.1\n"
     ]
    }
   ],
   "source": [
    "# importing required libraries\n",
    "import numpy as np\n",
    "import pandas as pd\n",
    "import matplotlib.pyplot as plt\n",
    "import seaborn as sns\n",
    "import sklearn\n",
    "import scipy\n",
    "\n",
    "print(\"NumPy version:\", np.__version__)\n",
    "print(\"Pandas version:\", pd.__version__)\n",
    "print(\"seaborn version:\", sns.__version__)\n",
    "print(\"sklearn version:\", sklearn.__version__)\n",
    "print(\"scipy version:\", scipy.__version__)"
   ]
  },
  {
   "cell_type": "code",
   "execution_count": 2,
   "id": "2a36d136",
   "metadata": {},
   "outputs": [],
   "source": [
    "# importing dataset as pandas DataFrame\n",
    "df = pd.read_csv(\"50_Startups.csv\")"
   ]
  },
  {
   "cell_type": "code",
   "execution_count": 3,
   "id": "5e2bd48a",
   "metadata": {},
   "outputs": [
    {
     "data": {
      "text/html": [
       "<div>\n",
       "<style scoped>\n",
       "    .dataframe tbody tr th:only-of-type {\n",
       "        vertical-align: middle;\n",
       "    }\n",
       "\n",
       "    .dataframe tbody tr th {\n",
       "        vertical-align: top;\n",
       "    }\n",
       "\n",
       "    .dataframe thead th {\n",
       "        text-align: right;\n",
       "    }\n",
       "</style>\n",
       "<table border=\"1\" class=\"dataframe\">\n",
       "  <thead>\n",
       "    <tr style=\"text-align: right;\">\n",
       "      <th></th>\n",
       "      <th>R&amp;D Spend</th>\n",
       "      <th>Administration</th>\n",
       "      <th>Marketing Spend</th>\n",
       "      <th>Profit</th>\n",
       "    </tr>\n",
       "  </thead>\n",
       "  <tbody>\n",
       "    <tr>\n",
       "      <th>0</th>\n",
       "      <td>165349.20</td>\n",
       "      <td>136897.80</td>\n",
       "      <td>471784.10</td>\n",
       "      <td>192261.83</td>\n",
       "    </tr>\n",
       "    <tr>\n",
       "      <th>1</th>\n",
       "      <td>162597.70</td>\n",
       "      <td>151377.59</td>\n",
       "      <td>443898.53</td>\n",
       "      <td>191792.06</td>\n",
       "    </tr>\n",
       "    <tr>\n",
       "      <th>2</th>\n",
       "      <td>153441.51</td>\n",
       "      <td>101145.55</td>\n",
       "      <td>407934.54</td>\n",
       "      <td>191050.39</td>\n",
       "    </tr>\n",
       "    <tr>\n",
       "      <th>3</th>\n",
       "      <td>144372.41</td>\n",
       "      <td>118671.85</td>\n",
       "      <td>383199.62</td>\n",
       "      <td>182901.99</td>\n",
       "    </tr>\n",
       "    <tr>\n",
       "      <th>4</th>\n",
       "      <td>142107.34</td>\n",
       "      <td>91391.77</td>\n",
       "      <td>366168.42</td>\n",
       "      <td>166187.94</td>\n",
       "    </tr>\n",
       "  </tbody>\n",
       "</table>\n",
       "</div>"
      ],
      "text/plain": [
       "   R&D Spend  Administration  Marketing Spend     Profit\n",
       "0  165349.20       136897.80        471784.10  192261.83\n",
       "1  162597.70       151377.59        443898.53  191792.06\n",
       "2  153441.51       101145.55        407934.54  191050.39\n",
       "3  144372.41       118671.85        383199.62  182901.99\n",
       "4  142107.34        91391.77        366168.42  166187.94"
      ]
     },
     "execution_count": 3,
     "metadata": {},
     "output_type": "execute_result"
    }
   ],
   "source": [
    "# displaying first five rows of dataset to get clarity over number of columns types of data\n",
    "df.head()"
   ]
  },
  {
   "cell_type": "code",
   "execution_count": 4,
   "id": "9738b35f",
   "metadata": {},
   "outputs": [
    {
     "name": "stdout",
     "output_type": "stream",
     "text": [
      "<class 'pandas.core.frame.DataFrame'>\n",
      "RangeIndex: 50 entries, 0 to 49\n",
      "Data columns (total 4 columns):\n",
      " #   Column           Non-Null Count  Dtype  \n",
      "---  ------           --------------  -----  \n",
      " 0   R&D Spend        50 non-null     float64\n",
      " 1   Administration   50 non-null     float64\n",
      " 2   Marketing Spend  50 non-null     float64\n",
      " 3   Profit           50 non-null     float64\n",
      "dtypes: float64(4)\n",
      "memory usage: 1.7 KB\n"
     ]
    }
   ],
   "source": [
    "# checking the basic infromation about the dataset \n",
    "df.info()"
   ]
  },
  {
   "cell_type": "code",
   "execution_count": 5,
   "id": "7415049b",
   "metadata": {},
   "outputs": [
    {
     "data": {
      "text/html": [
       "<div>\n",
       "<style scoped>\n",
       "    .dataframe tbody tr th:only-of-type {\n",
       "        vertical-align: middle;\n",
       "    }\n",
       "\n",
       "    .dataframe tbody tr th {\n",
       "        vertical-align: top;\n",
       "    }\n",
       "\n",
       "    .dataframe thead th {\n",
       "        text-align: right;\n",
       "    }\n",
       "</style>\n",
       "<table border=\"1\" class=\"dataframe\">\n",
       "  <thead>\n",
       "    <tr style=\"text-align: right;\">\n",
       "      <th></th>\n",
       "      <th>R&amp;D Spend</th>\n",
       "      <th>Administration</th>\n",
       "      <th>Marketing Spend</th>\n",
       "      <th>Profit</th>\n",
       "    </tr>\n",
       "  </thead>\n",
       "  <tbody>\n",
       "    <tr>\n",
       "      <th>count</th>\n",
       "      <td>50.000000</td>\n",
       "      <td>50.000000</td>\n",
       "      <td>50.000000</td>\n",
       "      <td>50.000000</td>\n",
       "    </tr>\n",
       "    <tr>\n",
       "      <th>mean</th>\n",
       "      <td>73721.615600</td>\n",
       "      <td>121344.639600</td>\n",
       "      <td>211025.097800</td>\n",
       "      <td>112012.639200</td>\n",
       "    </tr>\n",
       "    <tr>\n",
       "      <th>std</th>\n",
       "      <td>45902.256482</td>\n",
       "      <td>28017.802755</td>\n",
       "      <td>122290.310726</td>\n",
       "      <td>40306.180338</td>\n",
       "    </tr>\n",
       "    <tr>\n",
       "      <th>min</th>\n",
       "      <td>0.000000</td>\n",
       "      <td>51283.140000</td>\n",
       "      <td>0.000000</td>\n",
       "      <td>14681.400000</td>\n",
       "    </tr>\n",
       "    <tr>\n",
       "      <th>25%</th>\n",
       "      <td>39936.370000</td>\n",
       "      <td>103730.875000</td>\n",
       "      <td>129300.132500</td>\n",
       "      <td>90138.902500</td>\n",
       "    </tr>\n",
       "    <tr>\n",
       "      <th>50%</th>\n",
       "      <td>73051.080000</td>\n",
       "      <td>122699.795000</td>\n",
       "      <td>212716.240000</td>\n",
       "      <td>107978.190000</td>\n",
       "    </tr>\n",
       "    <tr>\n",
       "      <th>75%</th>\n",
       "      <td>101602.800000</td>\n",
       "      <td>144842.180000</td>\n",
       "      <td>299469.085000</td>\n",
       "      <td>139765.977500</td>\n",
       "    </tr>\n",
       "    <tr>\n",
       "      <th>max</th>\n",
       "      <td>165349.200000</td>\n",
       "      <td>182645.560000</td>\n",
       "      <td>471784.100000</td>\n",
       "      <td>192261.830000</td>\n",
       "    </tr>\n",
       "  </tbody>\n",
       "</table>\n",
       "</div>"
      ],
      "text/plain": [
       "           R&D Spend  Administration  Marketing Spend         Profit\n",
       "count      50.000000       50.000000        50.000000      50.000000\n",
       "mean    73721.615600   121344.639600    211025.097800  112012.639200\n",
       "std     45902.256482    28017.802755    122290.310726   40306.180338\n",
       "min         0.000000    51283.140000         0.000000   14681.400000\n",
       "25%     39936.370000   103730.875000    129300.132500   90138.902500\n",
       "50%     73051.080000   122699.795000    212716.240000  107978.190000\n",
       "75%    101602.800000   144842.180000    299469.085000  139765.977500\n",
       "max    165349.200000   182645.560000    471784.100000  192261.830000"
      ]
     },
     "execution_count": 5,
     "metadata": {},
     "output_type": "execute_result"
    }
   ],
   "source": [
    "# some basic stats for the dataset\n",
    "df.describe()"
   ]
  },
  {
   "cell_type": "code",
   "execution_count": 6,
   "id": "c578abf2",
   "metadata": {},
   "outputs": [
    {
     "data": {
      "image/png": "[encoded data removed]",
      "text/plain": [
       "<Figure size 1000x1000 with 20 Axes>"
      ]
     },
     "metadata": {},
     "output_type": "display_data"
    }
   ],
   "source": [
    "# some visual representation to get some clarity over the pattern and relationships\n",
    "# between features and between features and the target variable\n",
    "g = sns.PairGrid(df)\n",
    "g = g.map_upper(sns.scatterplot)\n",
    "g = g.map_diag(sns.kdeplot, lw=2)\n",
    "g = g.map_lower(sns.kdeplot, colors=\"red\")"
   ]
  },
  {
   "cell_type": "markdown",
   "id": "c9dc9a03",
   "metadata": {},
   "source": [
    "__Based on the above fig, only R & D and Marketing spending strongly correlate with Profit, and marketing has a high spread.__"
   ]
  },
  {
   "cell_type": "code",
   "execution_count": 7,
   "id": "95647767",
   "metadata": {},
   "outputs": [],
   "source": [
    "# Function for outlier detection\n",
    "def outlier_detection(col):\n",
    "    IQR=np.quantile(col,.75)-np.quantile(col,.25)\n",
    "    ur=np.quantile(col,.75)+(1.5*IQR)\n",
    "    lr=np.quantile(col,.25)-(1.5*IQR)\n",
    "    return ur,lr"
   ]
  },
  {
   "cell_type": "code",
   "execution_count": 8,
   "id": "39650f7b",
   "metadata": {},
   "outputs": [
    {
     "name": "stdout",
     "output_type": "stream",
     "text": [
      "R&D Spend\n",
      "Empty DataFrame\n",
      "Columns: [R&D Spend, Administration, Marketing Spend, Profit]\n",
      "Index: []\n",
      "Empty DataFrame\n",
      "Columns: [R&D Spend, Administration, Marketing Spend, Profit]\n",
      "Index: []\n",
      "Administration\n",
      "Empty DataFrame\n",
      "Columns: [R&D Spend, Administration, Marketing Spend, Profit]\n",
      "Index: []\n",
      "Empty DataFrame\n",
      "Columns: [R&D Spend, Administration, Marketing Spend, Profit]\n",
      "Index: []\n",
      "Marketing Spend\n",
      "Empty DataFrame\n",
      "Columns: [R&D Spend, Administration, Marketing Spend, Profit]\n",
      "Index: []\n",
      "Empty DataFrame\n",
      "Columns: [R&D Spend, Administration, Marketing Spend, Profit]\n",
      "Index: []\n",
      "Profit\n",
      "    R&D Spend  Administration  Marketing Spend   Profit\n",
      "49        0.0        116983.8         45173.06  14681.4\n",
      "Empty DataFrame\n",
      "Columns: [R&D Spend, Administration, Marketing Spend, Profit]\n",
      "Index: []\n"
     ]
    }
   ],
   "source": [
    "\n",
    "for i in df.columns:\n",
    "    ur,lr=outlier_detection(df[i])\n",
    "    print(i)\n",
    "    print(df[df[i]<lr])\n",
    "    print(df[df[i]>ur])\n",
    "    "
   ]
  },
  {
   "cell_type": "markdown",
   "id": "4f72e1c1",
   "metadata": {},
   "source": [
    "__Based on the above result, it has been found that only profit has an outlier, so I will remove it, as linear regression algorithms are sensitive to outliers.__"
   ]
  },
  {
   "cell_type": "code",
   "execution_count": 9,
   "id": "ef2affa7",
   "metadata": {},
   "outputs": [],
   "source": [
    "ur,lr=outlier_detection(df['Profit'])"
   ]
  },
  {
   "cell_type": "code",
   "execution_count": 10,
   "id": "7eab0f4d",
   "metadata": {},
   "outputs": [
    {
     "data": {
      "text/html": [
       "<div>\n",
       "<style scoped>\n",
       "    .dataframe tbody tr th:only-of-type {\n",
       "        vertical-align: middle;\n",
       "    }\n",
       "\n",
       "    .dataframe tbody tr th {\n",
       "        vertical-align: top;\n",
       "    }\n",
       "\n",
       "    .dataframe thead th {\n",
       "        text-align: right;\n",
       "    }\n",
       "</style>\n",
       "<table border=\"1\" class=\"dataframe\">\n",
       "  <thead>\n",
       "    <tr style=\"text-align: right;\">\n",
       "      <th></th>\n",
       "      <th>R&amp;D Spend</th>\n",
       "      <th>Administration</th>\n",
       "      <th>Marketing Spend</th>\n",
       "      <th>Profit</th>\n",
       "    </tr>\n",
       "  </thead>\n",
       "  <tbody>\n",
       "    <tr>\n",
       "      <th>49</th>\n",
       "      <td>0.0</td>\n",
       "      <td>116983.8</td>\n",
       "      <td>45173.06</td>\n",
       "      <td>14681.4</td>\n",
       "    </tr>\n",
       "  </tbody>\n",
       "</table>\n",
       "</div>"
      ],
      "text/plain": [
       "    R&D Spend  Administration  Marketing Spend   Profit\n",
       "49        0.0        116983.8         45173.06  14681.4"
      ]
     },
     "execution_count": 10,
     "metadata": {},
     "output_type": "execute_result"
    }
   ],
   "source": [
    "df[df['Profit']<lr]"
   ]
  },
  {
   "cell_type": "code",
   "execution_count": 11,
   "id": "0ee0b236",
   "metadata": {},
   "outputs": [],
   "source": [
    "df=df[df['Profit']>lr]"
   ]
  },
  {
   "cell_type": "code",
   "execution_count": 12,
   "id": "1e843df4",
   "metadata": {},
   "outputs": [],
   "source": [
    "X = df.drop('Profit',axis=1)  \n",
    "y = df['Profit']"
   ]
  },
  {
   "cell_type": "code",
   "execution_count": 13,
   "id": "d1f73c91",
   "metadata": {},
   "outputs": [],
   "source": [
    "from sklearn.model_selection import train_test_split"
   ]
  },
  {
   "cell_type": "code",
   "execution_count": 14,
   "id": "404f96c2",
   "metadata": {},
   "outputs": [],
   "source": [
    "X_train, X_test, y_train, y_test = train_test_split(X, y, test_size=0.3, random_state=101)"
   ]
  },
  {
   "cell_type": "code",
   "execution_count": 15,
   "id": "721e0b78",
   "metadata": {},
   "outputs": [
    {
     "data": {
      "text/plain": [
       "(34, 3)"
      ]
     },
     "execution_count": 15,
     "metadata": {},
     "output_type": "execute_result"
    }
   ],
   "source": [
    "X_train.shape"
   ]
  },
  {
   "cell_type": "markdown",
   "id": "da060f00",
   "metadata": {},
   "source": [
    "__I have chosen the training set of 70 % of the data, with 34 data points and a fixed random state for 101.__"
   ]
  },
  {
   "cell_type": "markdown",
   "id": "599fb46e",
   "metadata": {},
   "source": [
    "-----\n",
    "\n",
    "# Linear Regression"
   ]
  },
  {
   "cell_type": "code",
   "execution_count": 16,
   "id": "02d4895d",
   "metadata": {},
   "outputs": [],
   "source": [
    "from sklearn.linear_model import LinearRegression"
   ]
  },
  {
   "cell_type": "code",
   "execution_count": 17,
   "id": "847753d2",
   "metadata": {},
   "outputs": [],
   "source": [
    "lr_model = LinearRegression()"
   ]
  },
  {
   "cell_type": "code",
   "execution_count": 18,
   "id": "a2647928",
   "metadata": {},
   "outputs": [
    {
     "data": {
      "text/plain": [
       "LinearRegression()"
      ]
     },
     "execution_count": 18,
     "metadata": {},
     "output_type": "execute_result"
    }
   ],
   "source": [
    "lr_model.fit(X_train,y_train)"
   ]
  },
  {
   "cell_type": "code",
   "execution_count": 19,
   "id": "f325ebb4",
   "metadata": {},
   "outputs": [],
   "source": [
    "lr_preds = lr_model.predict(X_test)"
   ]
  },
  {
   "cell_type": "code",
   "execution_count": 20,
   "id": "d6500c92",
   "metadata": {},
   "outputs": [],
   "source": [
    "from sklearn.metrics import mean_squared_error"
   ]
  },
  {
   "cell_type": "code",
   "execution_count": 21,
   "id": "e1150881",
   "metadata": {},
   "outputs": [
    {
     "data": {
      "text/plain": [
       "['Linear_regression', 8273.557668008163]"
      ]
     },
     "execution_count": 21,
     "metadata": {},
     "output_type": "execute_result"
    }
   ],
   "source": [
    "lr_list=['Linear_regression',np.sqrt(mean_squared_error(y_test,lr_preds))]\n",
    "lr_list"
   ]
  },
  {
   "cell_type": "code",
   "execution_count": 22,
   "id": "79862820",
   "metadata": {},
   "outputs": [],
   "source": [
    "error_df = pd.DataFrame(columns=['Model', 'Error'])\n",
    "lr_list=['Linear Regression',np.sqrt(mean_squared_error(y_test,lr_preds))]\n",
    "# Create a DataFrame from the new row\n",
    "new_row = pd.DataFrame([lr_list], columns=['Model', 'Error'])\n",
    "\n",
    "# Append the new row to the existing DataFrame\n",
    "error_df = pd.concat([error_df, new_row], ignore_index=True)\n"
   ]
  },
  {
   "cell_type": "markdown",
   "id": "2eb9ddd5",
   "metadata": {},
   "source": [
    "---\n",
    "\n",
    "# Polynomial Regression"
   ]
  },
  {
   "cell_type": "code",
   "execution_count": 23,
   "id": "7dc2a668",
   "metadata": {},
   "outputs": [],
   "source": [
    "from sklearn.preprocessing import PolynomialFeatures"
   ]
  },
  {
   "cell_type": "code",
   "execution_count": 25,
   "id": "bbe8479a",
   "metadata": {},
   "outputs": [],
   "source": [
    "poly_conv=PolynomialFeatures(degree=2,include_bias=False)"
   ]
  },
  {
   "cell_type": "code",
   "execution_count": 26,
   "id": "c276710b",
   "metadata": {},
   "outputs": [],
   "source": [
    "poly_features = poly_conv.fit_transform(X)"
   ]
  },
  {
   "cell_type": "code",
   "execution_count": 27,
   "id": "e027a025",
   "metadata": {},
   "outputs": [
    {
     "data": {
      "text/plain": [
       "(49, 9)"
      ]
     },
     "execution_count": 27,
     "metadata": {},
     "output_type": "execute_result"
    }
   ],
   "source": [
    "poly_features.shape"
   ]
  },
  {
   "cell_type": "code",
   "execution_count": 28,
   "id": "17a853ce",
   "metadata": {},
   "outputs": [],
   "source": [
    "X_train, X_test, y_train, y_test = train_test_split(poly_features, y, test_size=0.3, random_state=101)"
   ]
  },
  {
   "cell_type": "code",
   "execution_count": 29,
   "id": "acbf318e",
   "metadata": {},
   "outputs": [],
   "source": [
    "pl_model=LinearRegression(fit_intercept=True)"
   ]
  },
  {
   "cell_type": "code",
   "execution_count": 30,
   "id": "8411101f",
   "metadata": {},
   "outputs": [
    {
     "data": {
      "text/plain": [
       "LinearRegression()"
      ]
     },
     "execution_count": 30,
     "metadata": {},
     "output_type": "execute_result"
    }
   ],
   "source": [
    "pl_model.fit(X_train,y_train)"
   ]
  },
  {
   "cell_type": "code",
   "execution_count": 31,
   "id": "b28030c2",
   "metadata": {},
   "outputs": [],
   "source": [
    "pl_preds = pl_model.predict(X_test)"
   ]
  },
  {
   "cell_type": "code",
   "execution_count": 32,
   "id": "a3f3e08d",
   "metadata": {},
   "outputs": [],
   "source": [
    "pl_list=['Polynomial Regression',np.sqrt(mean_squared_error(y_test,pl_preds))]"
   ]
  },
  {
   "cell_type": "code",
   "execution_count": 33,
   "id": "1087bda8",
   "metadata": {},
   "outputs": [],
   "source": [
    "# Create a DataFrame from the new row\n",
    "new_row = pd.DataFrame([pl_list], columns=['Model', 'Error'])\n",
    "\n",
    "# Append the new row to the existing DataFrame\n",
    "error_df = pd.concat([error_df, new_row], ignore_index=True)\n"
   ]
  },
  {
   "cell_type": "markdown",
   "id": "6cb01a9e",
   "metadata": {},
   "source": [
    "---\n",
    "\n",
    "# Ridge Regression"
   ]
  },
  {
   "cell_type": "code",
   "execution_count": 34,
   "id": "70e26c7b",
   "metadata": {},
   "outputs": [],
   "source": [
    "from sklearn.linear_model import RidgeCV"
   ]
  },
  {
   "cell_type": "code",
   "execution_count": 35,
   "id": "3d155202",
   "metadata": {},
   "outputs": [],
   "source": [
    "ridge_cv_model = RidgeCV(alphas=(0.1, 1.0, 10.0),scoring='neg_mean_absolute_error')"
   ]
  },
  {
   "cell_type": "code",
   "execution_count": 36,
   "id": "2728c32a",
   "metadata": {},
   "outputs": [],
   "source": [
    "from sklearn.preprocessing import StandardScaler"
   ]
  },
  {
   "cell_type": "code",
   "execution_count": 37,
   "id": "3de77454",
   "metadata": {},
   "outputs": [],
   "source": [
    "scaler = StandardScaler()"
   ]
  },
  {
   "cell_type": "code",
   "execution_count": 38,
   "id": "50a0ce70",
   "metadata": {},
   "outputs": [
    {
     "data": {
      "text/plain": [
       "StandardScaler()"
      ]
     },
     "execution_count": 38,
     "metadata": {},
     "output_type": "execute_result"
    }
   ],
   "source": [
    "scaler.fit(X_train)"
   ]
  },
  {
   "cell_type": "code",
   "execution_count": 39,
   "id": "0b6aa6ee",
   "metadata": {},
   "outputs": [],
   "source": [
    "X_train = scaler.transform(X_train)"
   ]
  },
  {
   "cell_type": "code",
   "execution_count": 40,
   "id": "7363d357",
   "metadata": {},
   "outputs": [],
   "source": [
    "X_test = scaler.transform(X_test)"
   ]
  },
  {
   "cell_type": "code",
   "execution_count": 41,
   "id": "1ddcde2a",
   "metadata": {},
   "outputs": [
    {
     "data": {
      "text/plain": [
       "RidgeCV(alphas=array([ 0.1,  1. , 10. ]), scoring='neg_mean_absolute_error')"
      ]
     },
     "execution_count": 41,
     "metadata": {},
     "output_type": "execute_result"
    }
   ],
   "source": [
    "ridge_cv_model.fit(X_train,y_train)"
   ]
  },
  {
   "cell_type": "code",
   "execution_count": 42,
   "id": "80e30f6c",
   "metadata": {},
   "outputs": [
    {
     "data": {
      "text/plain": [
       "1.0"
      ]
     },
     "execution_count": 42,
     "metadata": {},
     "output_type": "execute_result"
    }
   ],
   "source": [
    "ridge_cv_model.alpha_"
   ]
  },
  {
   "cell_type": "code",
   "execution_count": 43,
   "id": "b765e906",
   "metadata": {},
   "outputs": [],
   "source": [
    "ridge_preds = ridge_cv_model.predict(X_test)"
   ]
  },
  {
   "cell_type": "code",
   "execution_count": 44,
   "id": "6378fe0b",
   "metadata": {},
   "outputs": [],
   "source": [
    "ridge_list=['Ridge Regression',np.sqrt(mean_squared_error(y_test,ridge_preds))]"
   ]
  },
  {
   "cell_type": "code",
   "execution_count": 45,
   "id": "cb765580",
   "metadata": {},
   "outputs": [],
   "source": [
    "# Create a DataFrame from the new row\n",
    "new_row = pd.DataFrame([ridge_list], columns=['Model', 'Error'])\n",
    "\n",
    "# Append the new row to the existing DataFrame\n",
    "error_df = pd.concat([error_df, new_row], ignore_index=True)\n"
   ]
  },
  {
   "cell_type": "markdown",
   "id": "42d62a4c",
   "metadata": {},
   "source": [
    "---\n",
    "\n",
    "# Lasso Regression"
   ]
  },
  {
   "cell_type": "code",
   "execution_count": 46,
   "id": "6568acf6",
   "metadata": {},
   "outputs": [],
   "source": [
    "from sklearn.linear_model import LassoCV"
   ]
  },
  {
   "cell_type": "code",
   "execution_count": 47,
   "id": "6232bd57",
   "metadata": {},
   "outputs": [],
   "source": [
    "lasso_cv_model = LassoCV(eps=0.1,n_alphas=100,cv=5)"
   ]
  },
  {
   "cell_type": "code",
   "execution_count": 48,
   "id": "6716438e",
   "metadata": {},
   "outputs": [
    {
     "data": {
      "text/plain": [
       "LassoCV(cv=5, eps=0.1)"
      ]
     },
     "execution_count": 48,
     "metadata": {},
     "output_type": "execute_result"
    }
   ],
   "source": [
    "lasso_cv_model.fit(X_train,y_train)"
   ]
  },
  {
   "cell_type": "code",
   "execution_count": 49,
   "id": "572465fa",
   "metadata": {},
   "outputs": [
    {
     "data": {
      "text/plain": [
       "3514.4987952310908"
      ]
     },
     "execution_count": 49,
     "metadata": {},
     "output_type": "execute_result"
    }
   ],
   "source": [
    "lasso_cv_model.alpha_"
   ]
  },
  {
   "cell_type": "code",
   "execution_count": 50,
   "id": "e9bec921",
   "metadata": {},
   "outputs": [],
   "source": [
    "lasso_preds = lasso_cv_model.predict(X_test)"
   ]
  },
  {
   "cell_type": "code",
   "execution_count": 51,
   "id": "212e6075",
   "metadata": {},
   "outputs": [],
   "source": [
    "lasso_list=['Lasso Regression',np.sqrt(mean_squared_error(y_test,lasso_preds))]"
   ]
  },
  {
   "cell_type": "code",
   "execution_count": 52,
   "id": "8b29fab5",
   "metadata": {},
   "outputs": [],
   "source": [
    "# Create a DataFrame from the new row\n",
    "new_row = pd.DataFrame([lasso_list], columns=['Model', 'Error'])\n",
    "\n",
    "# Append the new row to the existing DataFrame\n",
    "error_df = pd.concat([error_df, new_row], ignore_index=True)\n"
   ]
  },
  {
   "cell_type": "markdown",
   "id": "12dc796c",
   "metadata": {},
   "source": [
    "## Elastic Net\n",
    "\n",
    "Elastic Net combines the penalties of ridge regression and lasso in an attempt to get the best of both worlds!"
   ]
  },
  {
   "cell_type": "code",
   "execution_count": 53,
   "id": "589e8952",
   "metadata": {},
   "outputs": [],
   "source": [
    "from sklearn.linear_model import ElasticNetCV"
   ]
  },
  {
   "cell_type": "code",
   "execution_count": 54,
   "id": "97a4f6bc",
   "metadata": {},
   "outputs": [],
   "source": [
    "elastic_model = ElasticNetCV(l1_ratio=[.1, .5, .7,.9, .95, .99, 1],tol=0.01)"
   ]
  },
  {
   "cell_type": "code",
   "execution_count": 55,
   "id": "143eda8e",
   "metadata": {},
   "outputs": [
    {
     "data": {
      "text/plain": [
       "ElasticNetCV(l1_ratio=[0.1, 0.5, 0.7, 0.9, 0.95, 0.99, 1], tol=0.01)"
      ]
     },
     "execution_count": 55,
     "metadata": {},
     "output_type": "execute_result"
    }
   ],
   "source": [
    "elastic_model.fit(X_train,y_train)"
   ]
  },
  {
   "cell_type": "code",
   "execution_count": 56,
   "id": "24cd3c99",
   "metadata": {},
   "outputs": [
    {
     "data": {
      "text/plain": [
       "1.0"
      ]
     },
     "execution_count": 56,
     "metadata": {},
     "output_type": "execute_result"
    }
   ],
   "source": [
    "elastic_model.l1_ratio_"
   ]
  },
  {
   "cell_type": "code",
   "execution_count": 57,
   "id": "5bc5bf68",
   "metadata": {},
   "outputs": [],
   "source": [
    "elastic_preds = elastic_model.predict(X_test)"
   ]
  },
  {
   "cell_type": "code",
   "execution_count": 58,
   "id": "be8abe84",
   "metadata": {},
   "outputs": [],
   "source": [
    "elastic_list=['Elastic Regression',np.sqrt(mean_squared_error(y_test,elastic_preds))]"
   ]
  },
  {
   "cell_type": "code",
   "execution_count": 59,
   "id": "3adc2888",
   "metadata": {},
   "outputs": [],
   "source": [
    "# Create a DataFrame from the new row\n",
    "new_row = pd.DataFrame([elastic_list], columns=['Model', 'Error'])\n",
    "\n",
    "# Append the new row to the existing DataFrame\n",
    "error_df = pd.concat([error_df, new_row], ignore_index=True)\n"
   ]
  },
  {
   "cell_type": "markdown",
   "id": "94b05faa",
   "metadata": {},
   "source": [
    "## Now relaxing linearity assumption to find a model for profit prediction based upon R&D Spend, Marketing Spend and Administration expenses."
   ]
  },
  {
   "cell_type": "markdown",
   "id": "3804922b",
   "metadata": {},
   "source": [
    "---\n",
    "\n",
    "\n",
    "## Function to find rmse"
   ]
  },
  {
   "cell_type": "code",
   "execution_count": 60,
   "id": "1e451fd5",
   "metadata": {},
   "outputs": [],
   "source": [
    "def run_model(model,X_train,y_train,X_test,y_test):\n",
    "    \n",
    "    # Fit Model\n",
    "    model.fit(X_train,y_train)\n",
    "    \n",
    "    # Get Metrics\n",
    "    \n",
    "    preds = model.predict(X_test)\n",
    "    \n",
    "    rmse = np.sqrt(mean_squared_error(y_test,preds))\n",
    "    #print(f'RMSE : {rmse}')\n",
    "    return rmse\n",
    "    \n",
    "    \n",
    "    "
   ]
  },
  {
   "cell_type": "code",
   "execution_count": 61,
   "id": "0040b02c",
   "metadata": {},
   "outputs": [],
   "source": [
    "X_train, X_test, y_train, y_test = train_test_split(X, y, test_size=0.3, random_state=101)"
   ]
  },
  {
   "cell_type": "markdown",
   "id": "675fb2a4",
   "metadata": {},
   "source": [
    "---\n",
    "\n",
    "# K Nearest Neighbors Regression"
   ]
  },
  {
   "cell_type": "code",
   "execution_count": 62,
   "id": "97b4689d",
   "metadata": {},
   "outputs": [],
   "source": [
    "from sklearn.neighbors import KNeighborsRegressor"
   ]
  },
  {
   "cell_type": "code",
   "execution_count": 63,
   "id": "35f0426e",
   "metadata": {},
   "outputs": [],
   "source": [
    "preds = {}\n",
    "k_values = [1,5,10]\n",
    "for n in k_values:\n",
    "    \n",
    "    \n",
    "    model = KNeighborsRegressor(n_neighbors=n)\n",
    "    preds[n]=run_model(model,X_train,y_train,X_test,y_test)"
   ]
  },
  {
   "cell_type": "code",
   "execution_count": 64,
   "id": "7013b7b3",
   "metadata": {},
   "outputs": [],
   "source": [
    "# New key-value mappings\n",
    "key_replacements = {1: 'KNN1', 5: 'KNN5', 10: 'KNN10'}\n",
    "\n",
    "# Create a new dictionary with updated keys\n",
    "updated_dict = {key_replacements.get(key, key): value for key, value in preds.items()}\n",
    "\n"
   ]
  },
  {
   "cell_type": "code",
   "execution_count": 65,
   "id": "d2082b60",
   "metadata": {},
   "outputs": [],
   "source": [
    "# Convert dictionary to DataFrame\n",
    "updated_df = pd.DataFrame.from_dict(updated_dict, orient='index', columns=['Error'])\n",
    "\n",
    "# Add the 'Model' column to the DataFrame\n",
    "updated_df['Model'] = updated_df.index\n",
    "\n",
    "# Append the updated DataFrame to the existing DataFrame\n",
    "error_df = pd.concat([error_df,updated_df], ignore_index=True)\n"
   ]
  },
  {
   "cell_type": "markdown",
   "id": "860cb0b1",
   "metadata": {},
   "source": [
    "---\n",
    "\n",
    "# Decision Tree Regression"
   ]
  },
  {
   "cell_type": "code",
   "execution_count": 66,
   "id": "fe40af63",
   "metadata": {},
   "outputs": [],
   "source": [
    "from sklearn.tree import DecisionTreeRegressor"
   ]
  },
  {
   "cell_type": "code",
   "execution_count": 67,
   "id": "5d031ce4",
   "metadata": {},
   "outputs": [],
   "source": [
    "model = DecisionTreeRegressor()\n",
    "\n",
    "decision_error=run_model(model,X_train,y_train,X_test,y_test)"
   ]
  },
  {
   "cell_type": "code",
   "execution_count": 68,
   "id": "dfc1523b",
   "metadata": {},
   "outputs": [],
   "source": [
    "descision_tree_list=['Decision Tree Regression',decision_error]"
   ]
  },
  {
   "cell_type": "code",
   "execution_count": 69,
   "id": "f8627909",
   "metadata": {},
   "outputs": [],
   "source": [
    "# Create a DataFrame from the new row\n",
    "new_row = pd.DataFrame([descision_tree_list], columns=['Model', 'Error'])\n",
    "\n",
    "# Append the new row to the existing DataFrame\n",
    "error_df = pd.concat([error_df, new_row], ignore_index=True)\n"
   ]
  },
  {
   "cell_type": "markdown",
   "id": "bedb41b0",
   "metadata": {},
   "source": [
    "---\n",
    "\n",
    "\n",
    "# Support Vector Regression"
   ]
  },
  {
   "cell_type": "code",
   "execution_count": 70,
   "id": "a1875c32",
   "metadata": {},
   "outputs": [],
   "source": [
    "from sklearn.svm import SVR"
   ]
  },
  {
   "cell_type": "code",
   "execution_count": 71,
   "id": "dadcaacc",
   "metadata": {},
   "outputs": [],
   "source": [
    "from sklearn.model_selection import GridSearchCV"
   ]
  },
  {
   "cell_type": "code",
   "execution_count": 72,
   "id": "f3c929e7",
   "metadata": {},
   "outputs": [],
   "source": [
    "param_grid = {'C':[0.01,0.1,1,5,10,100,1000],'gamma':['auto','scale']}\n",
    "svr = SVR()"
   ]
  },
  {
   "cell_type": "code",
   "execution_count": 73,
   "id": "127f47da",
   "metadata": {},
   "outputs": [],
   "source": [
    "grid = GridSearchCV(svr,param_grid)"
   ]
  },
  {
   "cell_type": "code",
   "execution_count": 74,
   "id": "2076bea1",
   "metadata": {},
   "outputs": [],
   "source": [
    "support_vector_regression=run_model(grid,X_train,y_train,X_test,y_test)"
   ]
  },
  {
   "cell_type": "code",
   "execution_count": 75,
   "id": "4980ffd6",
   "metadata": {},
   "outputs": [],
   "source": [
    "support_vector_regression_list=['support vector Regression',support_vector_regression]"
   ]
  },
  {
   "cell_type": "code",
   "execution_count": 76,
   "id": "63f5df10",
   "metadata": {},
   "outputs": [],
   "source": [
    "# Create a DataFrame from the new row\n",
    "new_row = pd.DataFrame([support_vector_regression_list], columns=['Model', 'Error'])\n",
    "\n",
    "# Append the new row to the existing DataFrame\n",
    "error_df = pd.concat([error_df, new_row], ignore_index=True)\n"
   ]
  },
  {
   "cell_type": "markdown",
   "id": "00638c50",
   "metadata": {},
   "source": [
    "---\n",
    "\n",
    "\n",
    "# Random Forest Regression"
   ]
  },
  {
   "cell_type": "code",
   "execution_count": 77,
   "id": "06ad32ca",
   "metadata": {},
   "outputs": [],
   "source": [
    "from sklearn.ensemble import RandomForestRegressor"
   ]
  },
  {
   "cell_type": "code",
   "execution_count": 78,
   "id": "d3dd408b",
   "metadata": {},
   "outputs": [],
   "source": [
    "random_tree={}\n",
    "trees = [10,50,100]\n",
    "for n in trees:\n",
    "    \n",
    "    model = RandomForestRegressor(n_estimators=n)\n",
    "    \n",
    "    random_tree[n]=run_model(model,X_train,y_train,X_test,y_test)"
   ]
  },
  {
   "cell_type": "code",
   "execution_count": 79,
   "id": "19bde6a2",
   "metadata": {},
   "outputs": [
    {
     "name": "stdout",
     "output_type": "stream",
     "text": [
      "{'Randomforest10': 9951.52792541074, 'Randomforest50': 11580.899849055395, 'Randomforest100': 11016.859560203851}\n"
     ]
    }
   ],
   "source": [
    "# New key-value mappings\n",
    "key_replacements_1 = {10: 'Randomforest10', 50: 'Randomforest50', 100: 'Randomforest100'}\n",
    "\n",
    "# Create a new dictionary with updated keys\n",
    "updated_dict_1 = {key_replacements_1.get(key, key): value for key, value in random_tree.items()}\n",
    "\n",
    "# Print the updated dictionary\n",
    "print(updated_dict_1)"
   ]
  },
  {
   "cell_type": "code",
   "execution_count": 80,
   "id": "d87cf580",
   "metadata": {},
   "outputs": [],
   "source": [
    "# Convert dictionary to DataFrame\n",
    "updated_df_1 = pd.DataFrame.from_dict(updated_dict_1, orient='index', columns=['Error'])\n",
    "\n",
    "# Add the 'Model' column to the DataFrame\n",
    "updated_df_1['Model'] = updated_df_1.index\n",
    "\n",
    "# Append the updated DataFrame to the existing DataFrame\n",
    "error_df = pd.concat([error_df,updated_df_1], ignore_index=True)\n",
    "\n"
   ]
  },
  {
   "cell_type": "markdown",
   "id": "0a442887",
   "metadata": {},
   "source": [
    "---\n",
    "\n",
    "# Gradient Boosting Regression"
   ]
  },
  {
   "cell_type": "code",
   "execution_count": 81,
   "id": "59cf388d",
   "metadata": {},
   "outputs": [],
   "source": [
    "from sklearn.ensemble import GradientBoostingRegressor"
   ]
  },
  {
   "cell_type": "code",
   "execution_count": 82,
   "id": "e876659d",
   "metadata": {},
   "outputs": [],
   "source": [
    "model = GradientBoostingRegressor()\n",
    "\n",
    "gradient_boost_error=run_model(model,X_train,y_train,X_test,y_test)"
   ]
  },
  {
   "cell_type": "code",
   "execution_count": 83,
   "id": "b80e5246",
   "metadata": {},
   "outputs": [],
   "source": [
    "gradient_boost_list=['Gradient Boost Regression',gradient_boost_error]"
   ]
  },
  {
   "cell_type": "code",
   "execution_count": 84,
   "id": "c6b70bc4",
   "metadata": {},
   "outputs": [],
   "source": [
    "# Create a DataFrame from the new row\n",
    "new_row = pd.DataFrame([gradient_boost_list], columns=['Model', 'Error'])\n",
    "\n",
    "# Append the new row to the existing DataFrame\n",
    "error_df = pd.concat([error_df, new_row], ignore_index=True)\n"
   ]
  },
  {
   "cell_type": "markdown",
   "id": "0d2705ac",
   "metadata": {},
   "source": [
    "---\n",
    "\n",
    "# Ada Boost Regression"
   ]
  },
  {
   "cell_type": "code",
   "execution_count": 85,
   "id": "2e3e55f0",
   "metadata": {},
   "outputs": [],
   "source": [
    "from sklearn.ensemble import AdaBoostRegressor"
   ]
  },
  {
   "cell_type": "code",
   "execution_count": 86,
   "id": "af37fb40",
   "metadata": {},
   "outputs": [],
   "source": [
    "model = GradientBoostingRegressor()\n",
    "\n",
    "ada_boost_error=run_model(model,X_train,y_train,X_test,y_test)"
   ]
  },
  {
   "cell_type": "code",
   "execution_count": 87,
   "id": "8cd00610",
   "metadata": {},
   "outputs": [],
   "source": [
    "Ada_boost_list=['Ada Boost Regression',ada_boost_error]\n",
    "# Create a DataFrame from the new row\n",
    "new_row = pd.DataFrame([Ada_boost_list], columns=['Model', 'Error'])\n",
    "\n",
    "# Append the new row to the existing DataFrame\n",
    "error_df = pd.concat([error_df, new_row], ignore_index=True)\n"
   ]
  },
  {
   "cell_type": "code",
   "execution_count": 88,
   "id": "5373d50d",
   "metadata": {},
   "outputs": [],
   "source": [
    "error_df['Error/mean']=error_df['Error']/np.mean(y_test)"
   ]
  },
  {
   "cell_type": "code",
   "execution_count": 89,
   "id": "1de5a85a",
   "metadata": {},
   "outputs": [
    {
     "data": {
      "text/html": [
       "<div>\n",
       "<style scoped>\n",
       "    .dataframe tbody tr th:only-of-type {\n",
       "        vertical-align: middle;\n",
       "    }\n",
       "\n",
       "    .dataframe tbody tr th {\n",
       "        vertical-align: top;\n",
       "    }\n",
       "\n",
       "    .dataframe thead th {\n",
       "        text-align: right;\n",
       "    }\n",
       "</style>\n",
       "<table border=\"1\" class=\"dataframe\">\n",
       "  <thead>\n",
       "    <tr style=\"text-align: right;\">\n",
       "      <th></th>\n",
       "      <th>Model</th>\n",
       "      <th>Error</th>\n",
       "      <th>Error/mean</th>\n",
       "    </tr>\n",
       "  </thead>\n",
       "  <tbody>\n",
       "    <tr>\n",
       "      <th>0</th>\n",
       "      <td>Linear Regression</td>\n",
       "      <td>8273.557668</td>\n",
       "      <td>0.076034</td>\n",
       "    </tr>\n",
       "    <tr>\n",
       "      <th>1</th>\n",
       "      <td>Polynomial Regression</td>\n",
       "      <td>8527.245863</td>\n",
       "      <td>0.078366</td>\n",
       "    </tr>\n",
       "    <tr>\n",
       "      <th>2</th>\n",
       "      <td>Ridge Regression</td>\n",
       "      <td>7684.207496</td>\n",
       "      <td>0.070618</td>\n",
       "    </tr>\n",
       "    <tr>\n",
       "      <th>3</th>\n",
       "      <td>Lasso Regression</td>\n",
       "      <td>8447.597498</td>\n",
       "      <td>0.077634</td>\n",
       "    </tr>\n",
       "    <tr>\n",
       "      <th>4</th>\n",
       "      <td>Elastic Regression</td>\n",
       "      <td>8124.270688</td>\n",
       "      <td>0.074662</td>\n",
       "    </tr>\n",
       "    <tr>\n",
       "      <th>5</th>\n",
       "      <td>KNN1</td>\n",
       "      <td>19958.069324</td>\n",
       "      <td>0.183415</td>\n",
       "    </tr>\n",
       "    <tr>\n",
       "      <th>6</th>\n",
       "      <td>KNN5</td>\n",
       "      <td>22998.994920</td>\n",
       "      <td>0.211361</td>\n",
       "    </tr>\n",
       "    <tr>\n",
       "      <th>7</th>\n",
       "      <td>KNN10</td>\n",
       "      <td>27983.103813</td>\n",
       "      <td>0.257165</td>\n",
       "    </tr>\n",
       "    <tr>\n",
       "      <th>8</th>\n",
       "      <td>Decision Tree Regression</td>\n",
       "      <td>12236.827945</td>\n",
       "      <td>0.112457</td>\n",
       "    </tr>\n",
       "    <tr>\n",
       "      <th>9</th>\n",
       "      <td>support vector Regression</td>\n",
       "      <td>38017.926827</td>\n",
       "      <td>0.349386</td>\n",
       "    </tr>\n",
       "    <tr>\n",
       "      <th>10</th>\n",
       "      <td>Randomforest10</td>\n",
       "      <td>9951.527925</td>\n",
       "      <td>0.091455</td>\n",
       "    </tr>\n",
       "    <tr>\n",
       "      <th>11</th>\n",
       "      <td>Randomforest50</td>\n",
       "      <td>11580.899849</td>\n",
       "      <td>0.106429</td>\n",
       "    </tr>\n",
       "    <tr>\n",
       "      <th>12</th>\n",
       "      <td>Randomforest100</td>\n",
       "      <td>11016.859560</td>\n",
       "      <td>0.101245</td>\n",
       "    </tr>\n",
       "    <tr>\n",
       "      <th>13</th>\n",
       "      <td>Gradient Boost Regression</td>\n",
       "      <td>10971.720320</td>\n",
       "      <td>0.100830</td>\n",
       "    </tr>\n",
       "    <tr>\n",
       "      <th>14</th>\n",
       "      <td>Ada Boost Regression</td>\n",
       "      <td>10401.289443</td>\n",
       "      <td>0.095588</td>\n",
       "    </tr>\n",
       "  </tbody>\n",
       "</table>\n",
       "</div>"
      ],
      "text/plain": [
       "                        Model         Error  Error/mean\n",
       "0           Linear Regression   8273.557668    0.076034\n",
       "1       Polynomial Regression   8527.245863    0.078366\n",
       "2            Ridge Regression   7684.207496    0.070618\n",
       "3            Lasso Regression   8447.597498    0.077634\n",
       "4          Elastic Regression   8124.270688    0.074662\n",
       "5                        KNN1  19958.069324    0.183415\n",
       "6                        KNN5  22998.994920    0.211361\n",
       "7                       KNN10  27983.103813    0.257165\n",
       "8    Decision Tree Regression  12236.827945    0.112457\n",
       "9   support vector Regression  38017.926827    0.349386\n",
       "10             Randomforest10   9951.527925    0.091455\n",
       "11             Randomforest50  11580.899849    0.106429\n",
       "12            Randomforest100  11016.859560    0.101245\n",
       "13  Gradient Boost Regression  10971.720320    0.100830\n",
       "14       Ada Boost Regression  10401.289443    0.095588"
      ]
     },
     "execution_count": 89,
     "metadata": {},
     "output_type": "execute_result"
    }
   ],
   "source": [
    "error_df"
   ]
  },
  {
   "cell_type": "code",
   "execution_count": 90,
   "id": "3646c891",
   "metadata": {},
   "outputs": [
    {
     "name": "stdout",
     "output_type": "stream",
     "text": [
      "Feature: R&D Spend, Coefficient: 32152.470482400688\n",
      "Feature: Administration, Coefficient: -0.0\n",
      "Feature: Marketing Spend, Coefficient: 2598.471261580022\n",
      "Feature: R&D Spend^2, Coefficient: 0.0\n",
      "Feature: R&D Spend Administration, Coefficient: 0.0\n",
      "Feature: R&D Spend Marketing Spend, Coefficient: 0.0\n",
      "Feature: Administration^2, Coefficient: -0.0\n",
      "Feature: Administration Marketing Spend, Coefficient: 0.0\n",
      "Feature: Marketing Spend^2, Coefficient: 0.0\n"
     ]
    }
   ],
   "source": [
    "# Get the names of the polynomial features\n",
    "feature_names = poly_conv.get_feature_names_out(X.columns)\n",
    "# Assuming you have a Lasso regression model called 'lasso_cv_model'\n",
    "coefficients = elastic_model.coef_\n",
    "\n",
    "coefficients_dict = dict(zip(feature_names, coefficients))\n",
    "\n",
    "for feature, coefficient in coefficients_dict.items():\n",
    "    print(f\"Feature: {feature}, Coefficient: {coefficient}\")"
   ]
  },
  {
   "cell_type": "markdown",
   "id": "80357f83",
   "metadata": {},
   "source": [
    "# $Expected Profit = 32152.47*R&D Spend + 2598.47*Marketing Spend$"
   ]
  },
  {
   "cell_type": "markdown",
   "id": "03671212",
   "metadata": {},
   "source": [
    "## Final model based upon assumption of Linear model"
   ]
  },
  {
   "cell_type": "code",
   "execution_count": 91,
   "id": "256a48a6",
   "metadata": {},
   "outputs": [],
   "source": [
    "from sklearn.linear_model import ElasticNet"
   ]
  },
  {
   "cell_type": "code",
   "execution_count": 92,
   "id": "6eae7c4a",
   "metadata": {},
   "outputs": [],
   "source": [
    "final_model = ElasticNet(l1_ratio=1,tol=0.01)"
   ]
  },
  {
   "cell_type": "code",
   "execution_count": 93,
   "id": "e9dababd",
   "metadata": {},
   "outputs": [],
   "source": [
    "X_transformed=scaler.transform(poly_features)"
   ]
  },
  {
   "cell_type": "code",
   "execution_count": 94,
   "id": "61dee060",
   "metadata": {},
   "outputs": [
    {
     "data": {
      "text/plain": [
       "ElasticNet(l1_ratio=1, tol=0.01)"
      ]
     },
     "execution_count": 94,
     "metadata": {},
     "output_type": "execute_result"
    }
   ],
   "source": [
    "final_model.fit(X_transformed,y)"
   ]
  },
  {
   "cell_type": "code",
   "execution_count": 95,
   "id": "02bc2b3b",
   "metadata": {},
   "outputs": [],
   "source": [
    "y_hat = final_model.predict(X_transformed)"
   ]
  },
  {
   "cell_type": "code",
   "execution_count": 96,
   "id": "550c09ec",
   "metadata": {},
   "outputs": [
    {
     "data": {
      "image/png": "[encoded data removed]",
      "text/plain": [
       "<Figure size 1600x600 with 3 Axes>"
      ]
     },
     "metadata": {},
     "output_type": "display_data"
    }
   ],
   "source": [
    "fig,axes = plt.subplots(nrows=1,ncols=3,figsize=(16,6))\n",
    "\n",
    "axes[0].plot(df['R&D Spend'],df['Profit'],'o')\n",
    "axes[0].plot(df['R&D Spend'],y_hat,'o',color='red')\n",
    "axes[0].set_ylabel(\"Profit\")\n",
    "axes[0].set_title(\"R&D Spend\")\n",
    "\n",
    "axes[1].plot(df['Administration'],df['Profit'],'o')\n",
    "axes[1].plot(df['Administration'],y_hat,'o',color='red')\n",
    "axes[1].set_title(\"Administration\")\n",
    "axes[1].set_ylabel(\"Profit\")\n",
    "\n",
    "axes[2].plot(df['Marketing Spend'],df['Profit'],'o')\n",
    "axes[2].plot(df['Marketing Spend'],y_hat,'o',color='red')\n",
    "axes[2].set_title(\"Marketing Spend\");\n",
    "axes[2].set_ylabel(\"Profit\")\n",
    "plt.tight_layout()\n",
    "plt.savefig('figure.png')\n",
    "plt.show();\n"
   ]
  },
  {
   "cell_type": "code",
   "execution_count": null,
   "id": "e24c7f3e",
   "metadata": {},
   "outputs": [],
   "source": []
  }
 ],
 "metadata": {
  "kernelspec": {
   "display_name": "Python 3 (ipykernel)",
   "language": "python",
   "name": "python3"
  },
  "language_info": {
   "codemirror_mode": {
    "name": "ipython",
    "version": 3
   },
   "file_extension": ".py",
   "mimetype": "text/x-python",
   "name": "python",
   "nbconvert_exporter": "python",
   "pygments_lexer": "ipython3",
   "version": "3.9.13"
  }
 },
 "nbformat": 4,
 "nbformat_minor": 5
}
